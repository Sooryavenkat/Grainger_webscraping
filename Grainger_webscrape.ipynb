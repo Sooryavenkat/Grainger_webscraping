{
 "cells": [
  {
   "cell_type": "code",
   "execution_count": 6,
   "metadata": {},
   "outputs": [],
   "source": [
    "from bs4 import BeautifulSoup as soup\n",
    "import requests\n",
    "import json\n",
    "from urllib.request import urlopen\n"
   ]
  },
  {
   "cell_type": "code",
   "execution_count": 7,
   "metadata": {},
   "outputs": [],
   "source": [
    "response_test = requests.get(\"https://www.grainger.com/category/abrasives/abrasive-blasting/abrasive-blasting-accessories\")"
   ]
  },
  {
   "cell_type": "code",
   "execution_count": 8,
   "metadata": {},
   "outputs": [],
   "source": [
    "content_test = response_test.content"
   ]
  },
  {
   "cell_type": "code",
   "execution_count": 9,
   "metadata": {},
   "outputs": [],
   "source": [
    "#print(content)"
   ]
  },
  {
   "cell_type": "code",
   "execution_count": 10,
   "metadata": {},
   "outputs": [],
   "source": [
    "parser = soup(content_test, 'lxml')"
   ]
  },
  {
   "cell_type": "code",
   "execution_count": 11,
   "metadata": {},
   "outputs": [
    {
     "data": {
      "text/plain": [
       "<h1 class=\"view-header__primary-heading\" data-automated-test=\"view-header-primary-heading\">\n",
       "<span class=\"view-header__message view-header__message--primary\">Abrasive Blasting Accessories</span> </h1>"
      ]
     },
     "execution_count": 11,
     "metadata": {},
     "output_type": "execute_result"
    }
   ],
   "source": [
    "#Parse the h1 tag\n",
    "parser.h1"
   ]
  },
  {
   "cell_type": "code",
   "execution_count": 12,
   "metadata": {},
   "outputs": [],
   "source": [
    "#gind all div tags with class\n",
    "containers = parser.findAll(\"div\", {\"class\", \"search-list-view__product-container\"})"
   ]
  },
  {
   "cell_type": "code",
   "execution_count": 13,
   "metadata": {},
   "outputs": [
    {
     "data": {
      "text/plain": [
       "25"
      ]
     },
     "execution_count": 13,
     "metadata": {},
     "output_type": "execute_result"
    }
   ],
   "source": [
    "len(containers)"
   ]
  },
  {
   "cell_type": "code",
   "execution_count": 14,
   "metadata": {},
   "outputs": [
    {
     "data": {
      "text/plain": [
       "<div class=\"search-list-view__product-container\">\n",
       "<div class=\"search-list-view__product\" data-automated-test=\"product--3JT05\" data-context-type=\"Primary\" data-sku=\"3JT05\" data-url=\"/product/ECONOLINE-Gloves-3JT05\" role=\"button\" tabindex=\"0\">\n",
       "<div class=\"search-list-view__content\">\n",
       "<h2 class=\"search-list-view__heading\" data-automated-test=\"descripton--3JT05\">Gloves,  24\",  Universal Glove Size,  Black,  1 PR</h2>\n",
       "<dl class=\"search-list-view__details\">\n",
       "<dt class=\"search-list-view__detail-name\">Brand</dt>\n",
       "<dd class=\"search-list-view__detail-value\" data-automated-test=\"brand\">ECONOLINE</dd>\n",
       "<dt class=\"search-list-view__detail-name\">Item #</dt>\n",
       "<dd class=\"search-list-view__detail-value\" data-automated-test=\"sku\">3JT05</dd>\n",
       "<dt class=\"search-list-view__detail-name\">Mfr. Model #</dt>\n",
       "<dd class=\"search-list-view__detail-value\" data-automated-test=\"manufacturerModelNumber\">\n",
       "                                        412002\n",
       "                                      </dd>\n",
       "</dl>\n",
       "</div>\n",
       "<div class=\"search-list-view__image-container\">\n",
       "<div class=\"search-list-view__image-flex-wrapper\">\n",
       "<img alt=\"\" class=\"image search-list-view__image\" data-src=\"//static.grainger.com/rp/s/is/image/Grainger/3JT05_AS01?$mdmain$\" src=\"\"/>\n",
       "<script type=\"text/javascript\">\n",
       "                                        (function () {\n",
       "                                          if (window.isLegacyBrowser) {\n",
       "                                              var $images = window.jQuery('.image')\n",
       "                                            \n",
       "                                              $images.each(function (_, image) {\n",
       "                                                var $image = window.jQuery(image)\n",
       "                                                var url = $image.data('src')\n",
       "                                                var srcset = $image.data('srcset')\n",
       "                                            \n",
       "                                                if (url && $image.data('lazy') !== 'false') {\n",
       "                                                  $image.attr({\n",
       "                                                    'srcset': srcset,\n",
       "                                                    'src': url,\n",
       "                                                    'data-srcset': '',\n",
       "                                                    'data-src': ''\n",
       "                                                  });\n",
       "                                                  $image.addClass('image--loaded')\n",
       "                                                }\n",
       "                                              })\n",
       "                                          }\n",
       "                                        })()\n",
       "                                      </script>\n",
       "<noscript>\n",
       "<img alt=\"\" class=\"search-list-view__image\" src=\"//static.grainger.com/rp/s/is/image/Grainger/3JT05_AS01?$mdmain$\"/>\n",
       "</noscript>\n",
       "</div>\n",
       "</div>\n",
       "<script id=\"search-list-view__legacy-script--3JT05\" type=\"text/javascript\">\n",
       "                            (function () {\n",
       "                              if (window.isLegacyBrowser) {\n",
       "                                        var selector = '#search-list-view__legacy-script--3JT05'\n",
       "                                        var $product = window.jQuery(selector).closest('.search-list-view__product')\n",
       "                                \n",
       "                                        $product.on('click', function () {\n",
       "                                          window.location.href = $product.data('url')\n",
       "                                        });\n",
       "                              }\n",
       "                            })()\n",
       "                          </script>\n",
       "</div>\n",
       "<div class=\"search-list-view__price-container\">\n",
       "<div class=\"price-replace-wrapper\" data-sku=\"3JT05\" data-template=\"idp\">\n",
       "<div class=\"gcprice gcprice-regular gcprice-idp\">\n",
       "<span class=\"gcprice-label\" data-automated-test=\"label\">\n",
       "                                                      Web Price\n",
       "                                                      <a aria-describedby=\"pricing-tooltip\" href=\"#\" role=\"tooltip\">\n",
       "<span class=\"visuallyhidden\">Product Overview</span>\n",
       "<span aria-hidden=\"true\" class=\"icon\"></span>\n",
       "</a>\n",
       "<div class=\"tooltip small bottom hide\" id=\"pricing-tooltip\">\n",
       "<p>Please <strong>sign in</strong> to your account to see your pricing, which may be different from the price displayed.</p><br/><p>Primary Category:<br/><strong>~Safety~Gloves and Hand Protection~Abrasion Resistant Gloves</strong></p>\n",
       "</div>\n",
       "</span>\n",
       "<span class=\"gcprice-value\" data-automated-test=\"price\">\n",
       "                                                    \n",
       "                                                    \n",
       "                                                        $28.35\n",
       "                                                    \n",
       "                                                    </span>\n",
       "<span class=\"gcprice-unit\" data-automated-test=\"uom\">\n",
       "                                                        / pair\n",
       "                                                      </span>\n",
       "</div>\n",
       "</div>\n",
       "</div>\n",
       "</div>"
      ]
     },
     "execution_count": 14,
     "metadata": {},
     "output_type": "execute_result"
    }
   ],
   "source": [
    "#select the 1st element of the div class\n",
    "containers[0]"
   ]
  },
  {
   "cell_type": "code",
   "execution_count": 15,
   "metadata": {},
   "outputs": [],
   "source": [
    "contain = containers[0]"
   ]
  },
  {
   "cell_type": "code",
   "execution_count": 16,
   "metadata": {},
   "outputs": [
    {
     "name": "stdout",
     "output_type": "stream",
     "text": [
      "<div class=\"search-list-view__product-container\">\n",
      "<div class=\"search-list-view__product\" data-automated-test=\"product--3JT05\" data-context-type=\"Primary\" data-sku=\"3JT05\" data-url=\"/product/ECONOLINE-Gloves-3JT05\" role=\"button\" tabindex=\"0\">\n",
      "<div class=\"search-list-view__content\">\n",
      "<h2 class=\"search-list-view__heading\" data-automated-test=\"descripton--3JT05\">Gloves,  24\",  Universal Glove Size,  Black,  1 PR</h2>\n",
      "<dl class=\"search-list-view__details\">\n",
      "<dt class=\"search-list-view__detail-name\">Brand</dt>\n",
      "<dd class=\"search-list-view__detail-value\" data-automated-test=\"brand\">ECONOLINE</dd>\n",
      "<dt class=\"search-list-view__detail-name\">Item #</dt>\n",
      "<dd class=\"search-list-view__detail-value\" data-automated-test=\"sku\">3JT05</dd>\n",
      "<dt class=\"search-list-view__detail-name\">Mfr. Model #</dt>\n",
      "<dd class=\"search-list-view__detail-value\" data-automated-test=\"manufacturerModelNumber\">\n",
      "                                        412002\n",
      "                                      </dd>\n",
      "</dl>\n",
      "</div>\n",
      "<div class=\"search-list-view__image-container\">\n",
      "<div class=\"search-list-view__image-flex-wrapper\">\n",
      "<img alt=\"\" class=\"image search-list-view__image\" data-src=\"//static.grainger.com/rp/s/is/image/Grainger/3JT05_AS01?$mdmain$\" src=\"\"/>\n",
      "<script type=\"text/javascript\">\n",
      "                                        (function () {\n",
      "                                          if (window.isLegacyBrowser) {\n",
      "                                              var $images = window.jQuery('.image')\n",
      "                                            \n",
      "                                              $images.each(function (_, image) {\n",
      "                                                var $image = window.jQuery(image)\n",
      "                                                var url = $image.data('src')\n",
      "                                                var srcset = $image.data('srcset')\n",
      "                                            \n",
      "                                                if (url && $image.data('lazy') !== 'false') {\n",
      "                                                  $image.attr({\n",
      "                                                    'srcset': srcset,\n",
      "                                                    'src': url,\n",
      "                                                    'data-srcset': '',\n",
      "                                                    'data-src': ''\n",
      "                                                  });\n",
      "                                                  $image.addClass('image--loaded')\n",
      "                                                }\n",
      "                                              })\n",
      "                                          }\n",
      "                                        })()\n",
      "                                      </script>\n",
      "<noscript>\n",
      "<img alt=\"\" class=\"search-list-view__image\" src=\"//static.grainger.com/rp/s/is/image/Grainger/3JT05_AS01?$mdmain$\"/>\n",
      "</noscript>\n",
      "</div>\n",
      "</div>\n",
      "<script id=\"search-list-view__legacy-script--3JT05\" type=\"text/javascript\">\n",
      "                            (function () {\n",
      "                              if (window.isLegacyBrowser) {\n",
      "                                        var selector = '#search-list-view__legacy-script--3JT05'\n",
      "                                        var $product = window.jQuery(selector).closest('.search-list-view__product')\n",
      "                                \n",
      "                                        $product.on('click', function () {\n",
      "                                          window.location.href = $product.data('url')\n",
      "                                        });\n",
      "                              }\n",
      "                            })()\n",
      "                          </script>\n",
      "</div>\n",
      "<div class=\"search-list-view__price-container\">\n",
      "<div class=\"price-replace-wrapper\" data-sku=\"3JT05\" data-template=\"idp\">\n",
      "<div class=\"gcprice gcprice-regular gcprice-idp\">\n",
      "<span class=\"gcprice-label\" data-automated-test=\"label\">\n",
      "                                                      Web Price\n",
      "                                                      <a aria-describedby=\"pricing-tooltip\" href=\"#\" role=\"tooltip\">\n",
      "<span class=\"visuallyhidden\">Product Overview</span>\n",
      "<span aria-hidden=\"true\" class=\"icon\"></span>\n",
      "</a>\n",
      "<div class=\"tooltip small bottom hide\" id=\"pricing-tooltip\">\n",
      "<p>Please <strong>sign in</strong> to your account to see your pricing, which may be different from the price displayed.</p><br/><p>Primary Category:<br/><strong>~Safety~Gloves and Hand Protection~Abrasion Resistant Gloves</strong></p>\n",
      "</div>\n",
      "</span>\n",
      "<span class=\"gcprice-value\" data-automated-test=\"price\">\n",
      "                                                    \n",
      "                                                    \n",
      "                                                        $28.35\n",
      "                                                    \n",
      "                                                    </span>\n",
      "<span class=\"gcprice-unit\" data-automated-test=\"uom\">\n",
      "                                                        / pair\n",
      "                                                      </span>\n",
      "</div>\n",
      "</div>\n",
      "</div>\n",
      "</div>\n"
     ]
    }
   ],
   "source": [
    "print(contain)"
   ]
  },
  {
   "cell_type": "code",
   "execution_count": 57,
   "metadata": {},
   "outputs": [
    {
     "data": {
      "text/plain": [
       "<h2 class=\"search-list-view__heading\" data-automated-test=\"descripton--3JT05\">Gloves,  24\",  Universal Glove Size,  Black,  1 PR</h2>"
      ]
     },
     "execution_count": 57,
     "metadata": {},
     "output_type": "execute_result"
    }
   ],
   "source": [
    "#traverse thro div tag and select h2 tag\n",
    "contain.div.div.h2"
   ]
  },
  {
   "cell_type": "code",
   "execution_count": 55,
   "metadata": {},
   "outputs": [],
   "source": [
    "#grab the title of the product\n",
    "title_container = contain.div.div.h2.text"
   ]
  },
  {
   "cell_type": "code",
   "execution_count": 26,
   "metadata": {},
   "outputs": [
    {
     "data": {
      "text/plain": [
       "<dl class=\"search-list-view__details\">\n",
       "<dt class=\"search-list-view__detail-name\">Brand</dt>\n",
       "<dd class=\"search-list-view__detail-value\" data-automated-test=\"brand\">ECONOLINE</dd>\n",
       "<dt class=\"search-list-view__detail-name\">Item #</dt>\n",
       "<dd class=\"search-list-view__detail-value\" data-automated-test=\"sku\">3JT05</dd>\n",
       "<dt class=\"search-list-view__detail-name\">Mfr. Model #</dt>\n",
       "<dd class=\"search-list-view__detail-value\" data-automated-test=\"manufacturerModelNumber\">\n",
       "                                        412002\n",
       "                                      </dd>\n",
       "</dl>"
      ]
     },
     "execution_count": 26,
     "metadata": {},
     "output_type": "execute_result"
    }
   ],
   "source": [
    "contain.div.div.dl"
   ]
  },
  {
   "cell_type": "code",
   "execution_count": 262,
   "metadata": {},
   "outputs": [
    {
     "data": {
      "text/plain": [
       "[<dd class=\"search-list-view__detail-value\" data-automated-test=\"brand\">ALC</dd>,\n",
       " <dd class=\"search-list-view__detail-value\" data-automated-test=\"sku\">15E761</dd>,\n",
       " <dd class=\"search-list-view__detail-value\" data-automated-test=\"manufacturerModelNumber\">\n",
       "                                         40119\n",
       "                                       </dd>]"
      ]
     },
     "execution_count": 262,
     "metadata": {},
     "output_type": "execute_result"
    }
   ],
   "source": [
    "#dd tag to find the brand name\n",
    "multiple_dd = contain.div.div.dl.find_all(\"dd\")\n",
    "multiple_dd"
   ]
  },
  {
   "cell_type": "code",
   "execution_count": 259,
   "metadata": {},
   "outputs": [],
   "source": [
    "#for items in multiple_dd:\n",
    "    #print(items.string.splitlines())"
   ]
  },
  {
   "cell_type": "code",
   "execution_count": 215,
   "metadata": {},
   "outputs": [
    {
     "name": "stdout",
     "output_type": "stream",
     "text": [
      "Brand\n",
      "Item #\n",
      "Mfr. Model #\n"
     ]
    }
   ],
   "source": [
    "for dt in contain.div.div.dl.find_all('dt', text=False):\n",
    "    print(dt.contents[0])"
   ]
  },
  {
   "cell_type": "code",
   "execution_count": 183,
   "metadata": {},
   "outputs": [],
   "source": [
    "#Grab the price value\n",
    "price_contain = contain.find(\"div\", {\"class\" : \"search-list-view__price-container\"})"
   ]
  },
  {
   "cell_type": "code",
   "execution_count": 88,
   "metadata": {},
   "outputs": [
    {
     "data": {
      "text/plain": [
       "'$28.35'"
      ]
     },
     "execution_count": 88,
     "metadata": {},
     "output_type": "execute_result"
    }
   ],
   "source": [
    "price = price_contain.find(\"span\", {\"class\" : \"gcprice-value\"}).text.strip()"
   ]
  },
  {
   "cell_type": "code",
   "execution_count": 268,
   "metadata": {},
   "outputs": [],
   "source": [
    "#write the output in file\n",
    "filename = \"producst.csv\"\n",
    "f = open(filename, \"w\")\n",
    "\n",
    "headers = \" Title, Price, Brand\\n\""
   ]
  },
  {
   "cell_type": "code",
   "execution_count": 269,
   "metadata": {},
   "outputs": [
    {
     "name": "stdout",
     "output_type": "stream",
     "text": [
      "Title :Gloves,  24\",  Universal Glove Size,  Black,  1 PR\n",
      "Price :$28.35\n",
      "Brand :ECONOLINE\n",
      "Title :Polyfelt Filter Bag\n",
      "Price :$33.35\n",
      "Brand :ECONOLINE\n",
      "Title :Underlayment, 12 x 24, PK20\n",
      "Price :$17.95\n",
      "Brand :ECONOLINE\n",
      "Title :Window Underlay, Pk5\n",
      "Price :$51.84\n",
      "Brand :ALC\n",
      "Title :Acrylic Window\n",
      "Price :$14.20\n",
      "Brand :ECONOLINE\n",
      "Title :Gloves,  1 PR\n",
      "Price :$36.95\n",
      "Brand :ECONOLINE\n",
      "Title :Gloves,  1 PR\n",
      "Price :$68.00\n",
      "Brand :ECONOLINE\n",
      "Title :Window Underlay, Pk5\n",
      "Price :$48.43\n",
      "Brand :ALC\n",
      "Title :3xin Lens\n",
      "Price :$6.46\n",
      "Brand :ALC\n",
      "Title :Deluxe Industrial Hood\n",
      "Price :$80.37\n",
      "Brand :ALC\n",
      "Title :Blasting Gloves,  1 PR\n",
      "Price :$39.90\n",
      "Brand :ALC\n",
      "Title :Gloves,  1 PR\n",
      "Price :$69.00\n",
      "Brand :ALC\n",
      "Title :Filter Cartridge\n",
      "Price :$69.00\n",
      "Brand :ECONOLINE\n",
      "Title :Window Underlay, 12\" X 24\", PK50\n",
      "Price :$97.00\n",
      "Brand :ALC\n",
      "Title :LED Light Kit, Metal, 30\" x 11\" x 3\" Size\n",
      "Price :$401.60\n",
      "Brand :ALC\n",
      "Title :LED Light Kit, Metal, 52\" x 11\" x 3\" Size\n",
      "Price :$600.00\n",
      "Brand :ALC\n",
      "Title :Window Underlay\n",
      "Price :$10.50\n",
      "Brand :ALC\n",
      "Title :Window, Replacement, Pk2\n",
      "Price :$16.80\n",
      "Brand :ECONOLINE\n",
      "Title :Window\n",
      "Price :$8.14\n",
      "Brand :ECONOLINE\n",
      "Title :Window\n",
      "Price :$36.00\n",
      "Brand :ECONOLINE\n",
      "Title :Replacement Hose\n",
      "Price :$526.06\n",
      "Brand :ALC\n",
      "Title :Blast Hose 1/2in ID x 8ft\n",
      "Price :$94.56\n",
      "Brand :ALC\n",
      "Title :Blast Hose 1/2in ID x 10ft\n",
      "Price :$112.90\n",
      "Brand :ALC\n",
      "Title :Blast Hose 1/2in ID x 15ft\n",
      "Price :$146.22\n",
      "Brand :ALC\n",
      "Title :Blast Hose 1/2in ID x20ft\n",
      "Price :$190.23\n",
      "Brand :ALC\n"
     ]
    }
   ],
   "source": [
    "f.write(headers)\n",
    "\n",
    "#looping thro all containers shown in the webpage to find title, brand, price\n",
    "for contain in containers:\n",
    "    title_container = contain.div.div.h2.text\n",
    "    \n",
    "    price_contain = contain.find(\"div\", {\"class\" : \"search-list-view__price-container\"})\n",
    "    price = price_contain.find(\"span\", {\"class\" : \"gcprice-value\"}).text.strip()\n",
    "    \n",
    "    brand = contain.div.div.dl.dd.text\n",
    "    \n",
    "    print(\"Title :\" + title_container)\n",
    "    print(\"Price :\" + price)\n",
    "    print(\"Brand :\" + brand)\n",
    "    \n",
    "    f.write(title_container.replace(\",\", \" \" ) + \",\" + price + \",\" + brand + \"\\n\")\n",
    "f.close()"
   ]
  },
  {
   "cell_type": "code",
   "execution_count": null,
   "metadata": {},
   "outputs": [],
   "source": []
  }
 ],
 "metadata": {
  "kernelspec": {
   "display_name": "Python 3",
   "language": "python",
   "name": "python3"
  },
  "language_info": {
   "codemirror_mode": {
    "name": "ipython",
    "version": 3
   },
   "file_extension": ".py",
   "mimetype": "text/x-python",
   "name": "python",
   "nbconvert_exporter": "python",
   "pygments_lexer": "ipython3",
   "version": "3.7.3"
  }
 },
 "nbformat": 4,
 "nbformat_minor": 4
}
